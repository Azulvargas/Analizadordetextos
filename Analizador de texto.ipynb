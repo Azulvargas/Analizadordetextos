{
 "cells": [
  {
   "cell_type": "markdown",
   "metadata": {},
   "source": [
    "# Analizador de texto"
   ]
  },
  {
   "cell_type": "markdown",
   "metadata": {},
   "source": [
    "# Este programa recibe una cadena de texto e informa la longitud ( cantidad de caracteres), minusculas, mayusculas y números contenidos, ademas debe ser capaz de:\n",
    "- Eliminar espacios en blanco \n",
    "- convertir todo el texto en minusculas\n",
    "- convertir todo el texto en mayusculas\n",
    "- sustituir una o varias palabras"
   ]
  },
  {
   "cell_type": "code",
   "execution_count": 70,
   "metadata": {},
   "outputs": [],
   "source": [
    "cadena = \"   Tengo,   sueño   \"\n",
    "cadena_limpia = cadena.strip()"
   ]
  },
  {
   "cell_type": "code",
   "execution_count": 71,
   "metadata": {},
   "outputs": [
    {
     "data": {
      "text/plain": [
       "'Tengo,   sueño'"
      ]
     },
     "execution_count": 71,
     "metadata": {},
     "output_type": "execute_result"
    }
   ],
   "source": [
    "\n",
    "cadena.strip()"
   ]
  },
  {
   "cell_type": "code",
   "execution_count": 68,
   "metadata": {},
   "outputs": [],
   "source": [
    "texto = input(\"Ingrese el texto\")"
   ]
  },
  {
   "cell_type": "code",
   "execution_count": 69,
   "metadata": {},
   "outputs": [
    {
     "data": {
      "text/plain": [
       "'tengo sueño     \"'"
      ]
     },
     "execution_count": 69,
     "metadata": {},
     "output_type": "execute_result"
    }
   ],
   "source": [
    "texto"
   ]
  },
  {
   "cell_type": "code",
   "execution_count": 19,
   "metadata": {},
   "outputs": [],
   "source": [
    "texto = \"Hate you\"\n",
    "mayusculas = texto.upper()\n",
    "minusculas = texto.lower()"
   ]
  },
  {
   "cell_type": "code",
   "execution_count": 20,
   "metadata": {},
   "outputs": [
    {
     "name": "stdout",
     "output_type": "stream",
     "text": [
      "HATE YOU\n"
     ]
    }
   ],
   "source": [
    "print(mayusculas)"
   ]
  },
  {
   "cell_type": "code",
   "execution_count": 21,
   "metadata": {},
   "outputs": [
    {
     "name": "stdout",
     "output_type": "stream",
     "text": [
      "hate you\n"
     ]
    }
   ],
   "source": [
    "print(minusculas)"
   ]
  },
  {
   "cell_type": "code",
   "execution_count": 40,
   "metadata": {},
   "outputs": [],
   "source": [
    "cadena = input(\"Ingrese el texto\")\n",
    "# Eliminar espacios en blanco\n",
    "texto_sin_espacios = texto.replace(\" \", \"\")\n",
    "\n",
    "    # Convertir a mayúsculas y minúsculas\n",
    "mayusculas = cadena.upper()\n",
    "minusculas = cadena.lower()\n",
    "\n",
    "    # Sustituir una palabra (ejemplo: sustituir \"hola\" por \"adiós\")\n",
    "cadena_sustituida = cadena.replace(\"mala\", \"buena\")\n",
    "\n"
   ]
  },
  {
   "cell_type": "code",
   "execution_count": 39,
   "metadata": {},
   "outputs": [
    {
     "name": "stdout",
     "output_type": "stream",
     "text": [
      "KARLA MALA\n"
     ]
    }
   ],
   "source": [
    "print(mayusculas)"
   ]
  },
  {
   "cell_type": "code",
   "execution_count": 74,
   "metadata": {},
   "outputs": [
    {
     "name": "stdout",
     "output_type": "stream",
     "text": [
      "\"    karla mala    \"\n",
      "\"    karla buena    \"\n",
      "20\n",
      "21\n",
      "\"    KARLA BUENA    \"\n",
      "\"    karla buena    \"\n"
     ]
    },
    {
     "data": {
      "text/plain": [
       "'\"    karla buena    \"'"
      ]
     },
     "execution_count": 74,
     "metadata": {},
     "output_type": "execute_result"
    }
   ],
   "source": [
    "cadena = input (\"Ingrese una cadena\")\n",
    "palabra_reemplazo = input(\"Ingrese que palabra desea remplazar\")\n",
    "palabra = input(\"Ingrese la palabra de reemplazo\")\n",
    "cadena_f = cadena.replace(palabra_reemplazo,palabra)\n",
    "print(cadena)\n",
    "print(cadena_f)\n",
    "#jhguiygi6fu7gt\n",
    "cadena =cadena   \n",
    "longitud = len(cadena)\n",
    "print(longitud)\n",
    "#fghh\n",
    "cadena =cadena_f\n",
    "longitud = len(cadena)\n",
    "print(longitud)\n",
    "\n",
    "#utgoi7tgo8\n",
    "mayusculas = cadena.upper()\n",
    "minusculas = cadena.lower()\n",
    "print(mayusculas)\n",
    "print(minusculas)\n",
    " \n",
    "\n",
    " #gujiuyi\n",
    "cadena = cadena\n",
    "cadena_limpia = cadena.strip()\n",
    "cadena.strip()"
   ]
  },
  {
   "cell_type": "code",
   "execution_count": 48,
   "metadata": {},
   "outputs": [
    {
     "data": {
      "text/plain": [
       "'Karla mala'"
      ]
     },
     "execution_count": 48,
     "metadata": {},
     "output_type": "execute_result"
    }
   ],
   "source": [
    "cadena"
   ]
  },
  {
   "cell_type": "code",
   "execution_count": 49,
   "metadata": {},
   "outputs": [
    {
     "data": {
      "text/plain": [
       "'Karla buena'"
      ]
     },
     "execution_count": 49,
     "metadata": {},
     "output_type": "execute_result"
    }
   ],
   "source": [
    "cadena_f"
   ]
  }
 ],
 "metadata": {
  "kernelspec": {
   "display_name": "Python 3",
   "language": "python",
   "name": "python3"
  },
  "language_info": {
   "codemirror_mode": {
    "name": "ipython",
    "version": 3
   },
   "file_extension": ".py",
   "mimetype": "text/x-python",
   "name": "python",
   "nbconvert_exporter": "python",
   "pygments_lexer": "ipython3",
   "version": "3.11.7"
  }
 },
 "nbformat": 4,
 "nbformat_minor": 2
}
